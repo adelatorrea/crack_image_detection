{
 "cells": [
  {
   "cell_type": "code",
   "execution_count": 1,
   "metadata": {
    "id": "k77GqQvN_9ka"
   },
   "outputs": [
    {
     "data": {
      "text/plain": [
       "<torch._C.Generator at 0x279d8ab9dd0>"
      ]
     },
     "execution_count": 1,
     "metadata": {},
     "output_type": "execute_result"
    }
   ],
   "source": [
    "import os\n",
    "from PIL import Image\n",
    "import numpy as np\n",
    "import torch\n",
    "import torch.nn as nn\n",
    "import torchvision.models as models\n",
    "import torchvision.transforms as transforms\n",
    "import torchvision.datasets as datasets\n",
    "from torch.utils.data import DataLoader, Dataset, random_split\n",
    "from torch.optim import Adam\n",
    "from torch.optim.lr_scheduler import StepLR\n",
    "from sklearn.metrics import classification_report, confusion_matrix, ConfusionMatrixDisplay\n",
    "import matplotlib.pyplot as plt\n",
    "from torchvision.datasets import ImageFolder\n",
    "\n",
    "torch.manual_seed(42)"
   ]
  },
  {
   "cell_type": "code",
   "execution_count": 2,
   "metadata": {},
   "outputs": [
    {
     "name": "stdout",
     "output_type": "stream",
     "text": [
      "Dispositivo usado: GPU con CUDA\n"
     ]
    }
   ],
   "source": [
    "if torch.cuda.is_available():\n",
    "  device = torch.device(\"cuda\")\n",
    "  print(\"Dispositivo usado: GPU con CUDA\")\n",
    "else:\n",
    "  device = torch.device(\"cpu\")\n",
    "  print(\"Dispositivo usado: CPU\")"
   ]
  },
  {
   "cell_type": "code",
   "execution_count": 3,
   "metadata": {
    "id": "3dWQGn3E_9kc"
   },
   "outputs": [],
   "source": [
    "# 1. Define Hyperparameters\n",
    "hyperparams = {\n",
    "    \"batch_size\": 32,\n",
    "    \"learning_rate\": 0.001,\n",
    "    \"num_epochs\": 20,\n",
    "    \"ridge_lambda\": 0.01,\n",
    "    \"dropout_prob\": 0.5,\n",
    "    \"scheduler_step_size\": 7,\n",
    "    \"scheduler_gamma\": 0.1\n",
    "}"
   ]
  },
  {
   "cell_type": "code",
   "execution_count": 4,
   "metadata": {
    "id": "1eT8Xq2y_9kc"
   },
   "outputs": [],
   "source": [
    "# Define the paths and labels\n",
    "data_dirs = {\n",
    "    r\"C:\\Users\\nahue\\Desktop\\dataset\\Lowlight_general\"\n",
    "    r\"C:\\Users\\nahue\\Desktop\\dataset\\GoodLight_general\"\n",
    "}"
   ]
  },
  {
   "cell_type": "code",
   "execution_count": 5,
   "metadata": {
    "id": "IekbnCuI_9kd"
   },
   "outputs": [],
   "source": [
    "# 2. Data Preparation\n",
    "transform = transforms.Compose([\n",
    "    transforms.Resize((224, 224)),\n",
    "    transforms.ToTensor(),\n",
    "    transforms.Normalize(mean=[0.485, 0.456, 0.406], std=[0.229, 0.224, 0.225])\n",
    "])"
   ]
  },
  {
   "cell_type": "code",
   "execution_count": 6,
   "metadata": {
    "id": "_S8NwbcP_9kd",
    "outputId": "792648af-2025-4f86-ffbc-13637bd29850"
   },
   "outputs": [
    {
     "name": "stdout",
     "output_type": "stream",
     "text": [
      "Train dataset:  32000\n",
      "Test dataset:  8000\n"
     ]
    }
   ],
   "source": [
    "\n",
    "dataset = ImageFolder(root=r\"C:\\Users\\nahue\\Desktop\\dataset\\quality\", transform=transform)\n",
    "\n",
    "# Split into train and test\n",
    "train_size = int(0.8 * len(dataset))\n",
    "test_size = len(dataset) - train_size\n",
    "train_dataset, test_dataset = random_split(dataset, [train_size, test_size])\n",
    "\n",
    "print('Train dataset: ', train_size)\n",
    "print('Test dataset: ', test_size)\n",
    "\n",
    "train_loader = DataLoader(train_dataset, batch_size=hyperparams[\"batch_size\"], shuffle=True)\n",
    "test_loader = DataLoader(test_dataset, batch_size=hyperparams[\"batch_size\"], shuffle=False)"
   ]
  },
  {
   "cell_type": "code",
   "execution_count": 7,
   "metadata": {
    "id": "J1j0uM1__9ke"
   },
   "outputs": [],
   "source": [
    "#ResNet18\n",
    "def get_resnet(num_classes = 1):\n",
    "  model = models.resnet18(pretrained=False) #Voy a entrenar todas las layers.\n",
    "\n",
    "  ### Ajuste de estructura ###\n",
    "  model.fc = nn.Sequential(\n",
    "    nn.Linear(model.fc.in_features, num_classes),\n",
    "        ) \n",
    "\n",
    "\n",
    "  return model"
   ]
  },
  {
   "cell_type": "code",
   "execution_count": 8,
   "metadata": {},
   "outputs": [],
   "source": [
    "from tqdm import tqdm #Barra de progreso\n",
    "\n",
    "def train(model, epoch):\n",
    "\n",
    "    #Modelo para entrenamiento\n",
    "    model.train()\n",
    "    running_loss = 0\n",
    "    #Barra de progreso\n",
    "    progress_bar = tqdm(train_loader, desc=f'Epoch {epoch + 1}/{training_epochs}', leave=True)\n",
    "\n",
    "    for images, labels in progress_bar:\n",
    "        # Extraigo data del batch\n",
    "        images, labels = images.to(device), labels.to(device)\n",
    "\n",
    "        # Gradientes a 0 del optimizer\n",
    "        optimizer.zero_grad()\n",
    "\n",
    "        # Predigo\n",
    "        output = model(images)\n",
    "        labels = labels.float().unsqueeze(1)\n",
    "        # Calculo loss\n",
    "        loss = criterion(output, labels)\n",
    "\n",
    "        # Backprogation\n",
    "        loss.backward()\n",
    "\n",
    "        # Actualizo pesos\n",
    "        optimizer.step()\n",
    "\n",
    "        # Actualizo la pérdida acumulada\n",
    "        running_loss += loss.item()\n",
    "\n",
    "        # Actualizo la barra de progreso con la pérdida promedio hasta ahora\n",
    "        progress_bar.set_postfix({'loss': running_loss / (progress_bar.n + 1)})\n",
    "\n",
    "    # Calculo la pérdida promedio del epoch\n",
    "    avg_loss = running_loss / len(train_loader)\n",
    "    loss_training.append(avg_loss)\n",
    "\n",
    "    # Printeo resultado final del epoch\n",
    "    print(f'Epoch {epoch + 1}/{training_epochs}, Loss: {avg_loss:.4f}')"
   ]
  },
  {
   "cell_type": "code",
   "execution_count": 68,
   "metadata": {},
   "outputs": [],
   "source": [
    "def test(model, split):\n",
    "    # Defino set\n",
    "    if split == 'train':\n",
    "        loader = train_loader\n",
    "        loss_history = loss_train_split\n",
    "    else:\n",
    "        loader = test_loader\n",
    "        loss_history = loss_test_split\n",
    "\n",
    "    # Seteo el modelo en evaluación\n",
    "    model.eval()\n",
    "\n",
    "    global errorList\n",
    "    errorList = []\n",
    "    correct = 0\n",
    "    test_loss = 0\n",
    "\n",
    "    with torch.no_grad():\n",
    "        for data, target in loader:\n",
    "            data, target = data.to(device), target.to(device)\n",
    "\n",
    "            # Predigo\n",
    "            output = model(data)\n",
    "\n",
    "            # Si estamos usando BCEWithLogitsLoss, no es necesario aplicar Sigmoid\n",
    "            # Si usas BCELoss, aplica Sigmoid\n",
    "            output = torch.sigmoid(output)  # Convierte en probabilidades\n",
    "\n",
    "            target = target.float().unsqueeze(1)  # Aseguramos que las etiquetas sean flotantes y tengan la forma correcta\n",
    "\n",
    "            # Calculo la pérdida y sumo\n",
    "            loss = criterion(output, target)\n",
    "            test_loss += loss.item()\n",
    "\n",
    "            # Predicción binaria: umbral en 0.5\n",
    "            pred = (output > 0.5).float()  # 0.5 como umbral para clasificación binaria\n",
    "\n",
    "            # Cuento cuántas son correctas\n",
    "            correct += pred.eq(target).sum().item()\n",
    "\n",
    "            # Identifico y guardo los errores\n",
    "            errors = pred.ne(target)\n",
    "            error_indices = errors.nonzero(as_tuple=True)[0]\n",
    "            for idx in error_indices:\n",
    "                errorList.append({\n",
    "                    \"data\": data[idx],\n",
    "                    \"pred\": pred[idx],\n",
    "                    \"target\": target[idx]\n",
    "                })\n",
    "\n",
    "        # Calculo la pérdida promedio por batch\n",
    "        test_loss /= len(loader)\n",
    "\n",
    "        # Guardo el histórico de la pérdida en el test para graficarlo\n",
    "        loss_history.append(test_loss)\n",
    "\n",
    "        # Imprimo por pantalla los resultados del test\n",
    "        print(f'Test (split {split}):\\n   Loss medio: {test_loss:.4f}, '\n",
    "              f'Errores: {len(errorList)}, '\n",
    "              f'Precisión: {100. * correct / len(loader.dataset):.2f}%\\n')\n"
   ]
  },
  {
   "cell_type": "code",
   "execution_count": 10,
   "metadata": {
    "scrolled": true
   },
   "outputs": [
    {
     "name": "stderr",
     "output_type": "stream",
     "text": [
      "C:\\Users\\nahue\\anaconda3\\envs\\zerodce_env\\lib\\site-packages\\torchvision\\models\\_utils.py:209: UserWarning: The parameter 'pretrained' is deprecated since 0.13 and may be removed in the future, please use 'weights' instead.\n",
      "  f\"The parameter '{pretrained_param}' is deprecated since 0.13 and may be removed in the future, \"\n",
      "C:\\Users\\nahue\\anaconda3\\envs\\zerodce_env\\lib\\site-packages\\torchvision\\models\\_utils.py:223: UserWarning: Arguments other than a weight enum or `None` for 'weights' are deprecated since 0.13 and may be removed in the future. The current behavior is equivalent to passing `weights=None`.\n",
      "  warnings.warn(msg)\n"
     ]
    },
    {
     "name": "stdout",
     "output_type": "stream",
     "text": [
      "Epoch : 1 LR: [1.5]\n"
     ]
    },
    {
     "name": "stderr",
     "output_type": "stream",
     "text": [
      "Epoch 1/5: 100%|██████████████████████████████████████████████████████| 1000/1000 [04:15<00:00,  3.91it/s, loss=0.0514]\n"
     ]
    },
    {
     "name": "stdout",
     "output_type": "stream",
     "text": [
      "Epoch 1/5, Loss: 0.0514\n",
      "Epoch : 2 LR: [1.0499999999999998]\n"
     ]
    },
    {
     "name": "stderr",
     "output_type": "stream",
     "text": [
      "Epoch 2/5: 100%|█████████████████████████████████████████████████████| 1000/1000 [01:34<00:00, 10.58it/s, loss=0.00891]\n"
     ]
    },
    {
     "name": "stdout",
     "output_type": "stream",
     "text": [
      "Epoch 2/5, Loss: 0.0089\n",
      "Epoch : 3 LR: [0.7349999999999999]\n"
     ]
    },
    {
     "name": "stderr",
     "output_type": "stream",
     "text": [
      "Epoch 3/5: 100%|█████████████████████████████████████████████████████| 1000/1000 [01:43<00:00,  9.69it/s, loss=0.00494]\n"
     ]
    },
    {
     "name": "stdout",
     "output_type": "stream",
     "text": [
      "Epoch 3/5, Loss: 0.0049\n",
      "Epoch : 4 LR: [0.5144999999999998]\n"
     ]
    },
    {
     "name": "stderr",
     "output_type": "stream",
     "text": [
      "Epoch 4/5: 100%|█████████████████████████████████████████████████████| 1000/1000 [01:38<00:00, 10.20it/s, loss=0.00355]\n"
     ]
    },
    {
     "name": "stdout",
     "output_type": "stream",
     "text": [
      "Epoch 4/5, Loss: 0.0035\n",
      "Epoch : 5 LR: [0.36014999999999986]\n"
     ]
    },
    {
     "name": "stderr",
     "output_type": "stream",
     "text": [
      "Epoch 5/5: 100%|█████████████████████████████████████████████████████| 1000/1000 [01:39<00:00, 10.08it/s, loss=0.00248]"
     ]
    },
    {
     "name": "stdout",
     "output_type": "stream",
     "text": [
      "Epoch 5/5, Loss: 0.0025\n"
     ]
    },
    {
     "name": "stderr",
     "output_type": "stream",
     "text": [
      "\n"
     ]
    }
   ],
   "source": [
    "torch.manual_seed(42)\n",
    "\n",
    "loss_training = []\n",
    "loss_test_split = []\n",
    "loss_train_split = []\n",
    "\n",
    "#Model\n",
    "model = get_resnet()\n",
    "model.to(device)\n",
    "\n",
    "\n",
    "#Estabilizamos los weights iniciales para facilitar la convergencia\n",
    "def weights_init(m):\n",
    "    if isinstance(m, nn.Conv2d) or isinstance(m, nn.Linear):\n",
    "        torch.nn.init.normal_(m.weight, 0.0, 0.02)\n",
    "    if isinstance(m, nn.BatchNorm2d):\n",
    "        torch.nn.init.normal_(m.weight, 0.0, 0.02)\n",
    "        torch.nn.init.constant_(m.bias, 0)\n",
    "\n",
    "model = model.apply(weights_init) #Aplicamos nuevos weights\n",
    "\n",
    "\n",
    "#Criterion + optimizer con caida de lr\n",
    "optimizer = torch.optim.SGD(model.parameters(), lr=1.5) #Optimizer\n",
    "criterion = torch.nn.BCEWithLogitsLoss() #Loss function\n",
    "scheduler = StepLR(optimizer, step_size=1, gamma=0.7) #Ajuste de LR\n",
    "\n",
    "\n",
    "#Loop de entrenamiento 👌\n",
    "training_epochs = 5\n",
    "for epoch in range(0, training_epochs):\n",
    "    print('Epoch :', epoch+1, 'LR:', scheduler.get_last_lr())\n",
    "\n",
    "    train(model, epoch)\n",
    "    test(model, 'test')\n",
    "\n",
    "    scheduler.step()"
   ]
  },
  {
   "cell_type": "code",
   "execution_count": 69,
   "metadata": {},
   "outputs": [
    {
     "name": "stdout",
     "output_type": "stream",
     "text": [
      "Test (split test):\n",
      "   Loss medio: 0.5022, Errores: 1, Precisión: 99.99%\n",
      "\n"
     ]
    }
   ],
   "source": [
    "test(model, 'test')"
   ]
  },
  {
   "cell_type": "code",
   "execution_count": 70,
   "metadata": {},
   "outputs": [],
   "source": [
    "# 6. Test Function\n",
    "def test_epoch(model, loader):\n",
    "    model.eval()\n",
    "    all_preds, all_labels = [], []\n",
    "    with torch.no_grad():\n",
    "        for images, labels in loader:\n",
    "            images, labels = images.cuda(), labels.cuda()\n",
    "\n",
    "            # Predicción del modelo\n",
    "            outputs = model(images)\n",
    "\n",
    "            # Si estamos usando BCEWithLogitsLoss, no es necesario aplicar Sigmoid\n",
    "            # Si usamos BCELoss, aplicamos Sigmoid\n",
    "            outputs = torch.sigmoid(outputs)  # Convierte los logits en probabilidades\n",
    "\n",
    "            # Predicción binaria: umbral en 0.5\n",
    "            preds = (outputs > 0.5).float()  # 0.5 como umbral para clasificación binaria\n",
    "\n",
    "            # Convertir a CPU y agregar a las listas\n",
    "            all_preds.extend(preds.cpu().numpy())\n",
    "            all_labels.extend(labels.cpu().numpy())\n",
    "\n",
    "    return all_preds, all_labels\n",
    "\n",
    "# 8. Test the Model\n",
    "test_preds, test_labels = test_epoch(model, test_loader)\n"
   ]
  },
  {
   "cell_type": "code",
   "execution_count": 71,
   "metadata": {},
   "outputs": [
    {
     "name": "stdout",
     "output_type": "stream",
     "text": [
      "               precision    recall  f1-score   support\n",
      "\n",
      "Regular Light       1.00      1.00      1.00      3973\n",
      "    Low Light       1.00      1.00      1.00      4027\n",
      "\n",
      "     accuracy                           1.00      8000\n",
      "    macro avg       1.00      1.00      1.00      8000\n",
      " weighted avg       1.00      1.00      1.00      8000\n",
      "\n"
     ]
    },
    {
     "data": {
      "image/png": "[encoded data removed]",
      "text/plain": [
       "<Figure size 640x480 with 2 Axes>"
      ]
     },
     "metadata": {},
     "output_type": "display_data"
    }
   ],
   "source": [
    "# Metrics and Confusion Matrix\n",
    "print(classification_report(test_labels, test_preds, target_names=[\"Regular Light\", \"Low Light\"]))\n",
    "cm = confusion_matrix(test_labels, test_preds)\n",
    "ConfusionMatrixDisplay(cm, display_labels=[\"Regular Light\", \"Low Light\"]).plot(cmap=\"Blues\")\n",
    "plt.show()"
   ]
  },
  {
   "cell_type": "code",
   "execution_count": 73,
   "metadata": {},
   "outputs": [
    {
     "data": {
      "image/png": "[encoded data removed]",
      "text/plain": [
       "<Figure size 640x480 with 1 Axes>"
      ]
     },
     "metadata": {},
     "output_type": "display_data"
    }
   ],
   "source": [
    "# 9. Plot Train Loss\n",
    "plt.plot(loss_training, label=\"Train Loss\")\n",
    "plt.xlabel(\"Epoch\")\n",
    "plt.ylabel(\"Loss\")\n",
    "plt.legend()\n",
    "plt.title(\"Train Loss Curve\")\n",
    "plt.show()"
   ]
  },
  {
   "cell_type": "code",
   "execution_count": 74,
   "metadata": {},
   "outputs": [],
   "source": [
    "# Save the model in .pth format (PyTorch format)\n",
    "torch.save(model.state_dict(), 'quality_model.pth')"
   ]
  },
  {
   "cell_type": "code",
   "execution_count": 2,
   "metadata": {},
   "outputs": [
    {
     "ename": "NameError",
     "evalue": "name 'model' is not defined",
     "output_type": "error",
     "traceback": [
      "\u001b[1;31m---------------------------------------------------------------------------\u001b[0m",
      "\u001b[1;31mNameError\u001b[0m                                 Traceback (most recent call last)",
      "\u001b[1;32m~\\AppData\\Local\\Temp\\ipykernel_20736\\2029845769.py\u001b[0m in \u001b[0;36m<module>\u001b[1;34m\u001b[0m\n\u001b[1;32m----> 1\u001b[1;33m \u001b[0mmodel\u001b[0m\u001b[1;33m.\u001b[0m\u001b[0meval\u001b[0m\u001b[1;33m(\u001b[0m\u001b[1;33m)\u001b[0m\u001b[1;33m\u001b[0m\u001b[1;33m\u001b[0m\u001b[0m\n\u001b[0m",
      "\u001b[1;31mNameError\u001b[0m: name 'model' is not defined"
     ]
    }
   ],
   "source": [
    "model.eval()"
   ]
  },
  {
   "cell_type": "code",
   "execution_count": null,
   "metadata": {},
   "outputs": [],
   "source": []
  }
 ],
 "metadata": {
  "colab": {
   "provenance": []
  },
  "kernelspec": {
   "display_name": "Python 3 (ipykernel)",
   "language": "python",
   "name": "python3"
  },
  "language_info": {
   "codemirror_mode": {
    "name": "ipython",
    "version": 3
   },
   "file_extension": ".py",
   "mimetype": "text/x-python",
   "name": "python",
   "nbconvert_exporter": "python",
   "pygments_lexer": "ipython3",
   "version": "3.7.4"
  }
 },
 "nbformat": 4,
 "nbformat_minor": 1
}
