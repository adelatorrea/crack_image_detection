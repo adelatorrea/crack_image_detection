{
 "cells": [
  {
   "cell_type": "code",
   "execution_count": 7,
   "id": "4c5b2e96-428a-4a58-8ff0-26569f433cd4",
   "metadata": {},
   "outputs": [
    {
     "name": "stdout",
     "output_type": "stream",
     "text": [
      "* Running on local URL:  http://127.0.0.1:7866\n",
      "\n",
      "To create a public link, set `share=True` in `launch()`.\n"
     ]
    },
    {
     "data": {
      "text/html": [
       "<div><iframe src=\"http://127.0.0.1:7866/\" width=\"100%\" height=\"500\" allow=\"autoplay; camera; microphone; clipboard-read; clipboard-write;\" frameborder=\"0\" allowfullscreen></iframe></div>"
      ],
      "text/plain": [
       "<IPython.core.display.HTML object>"
      ]
     },
     "metadata": {},
     "output_type": "display_data"
    },
    {
     "data": {
      "text/plain": []
     },
     "execution_count": 7,
     "metadata": {},
     "output_type": "execute_result"
    }
   ],
   "source": [
    "import gradio as gr\n",
    "import torch\n",
    "import torchvision\n",
    "from torchvision import models, transforms\n",
    "from PIL import Image\n",
    "import os\n",
    "import warnings\n",
    "from datetime import datetime\n",
    "import architectures.zero_dce_model as zero\n",
    "import architectures.risk_model as risk\n",
    "\n",
    "# Configuración\n",
    "device = torch.device(\"cuda\" if torch.cuda.is_available() else \"cpu\")\n",
    "warnings.filterwarnings(\"ignore\")\n",
    "\n",
    "# Cargar modelos\n",
    "def load_quality_model(num_classes=1, device=\"cuda\"):\n",
    "    model = models.resnet18(pretrained=False)\n",
    "    model.fc = torch.nn.Sequential(torch.nn.Linear(model.fc.in_features, num_classes))\n",
    "    model = model.to(device)\n",
    "    model.load_state_dict(torch.load(r'architectures/weights/quality_model.pth', map_location=device))\n",
    "    model.eval()\n",
    "    return model\n",
    "\n",
    "def load_zero_dce(device=\"cuda\"):\n",
    "    model = zero.zero_dce().to(device)\n",
    "    model.load_state_dict(torch.load('architectures/weights/zero_dce.pth', map_location=device))\n",
    "    model.eval()\n",
    "    return model\n",
    "\n",
    "def load_risk_model(input_dim=64, device=\"cuda\"):\n",
    "    model = risk.RiskDetectionModel(input_dim).to(device)\n",
    "    model.load_state_dict(torch.load('architectures/weights/risk_detection_model.pth', map_location=device))\n",
    "    model.eval()\n",
    "    return model\n",
    "\n",
    "quality_model = load_quality_model(device=device)\n",
    "DCE_net = load_zero_dce(device=device)\n",
    "risk_model = load_risk_model(device=device)\n",
    "\n",
    "# Transformaciones\n",
    "quality_transform = transforms.Compose([\n",
    "    transforms.Resize((224, 224)), \n",
    "    transforms.ToTensor(),  \n",
    "    transforms.Normalize(mean=[0.485, 0.456, 0.406], std=[0.229, 0.224, 0.225]), \n",
    "])\n",
    "\n",
    "enhancement_transform = transforms.Compose([\n",
    "    transforms.Resize((224, 224)),  \n",
    "    transforms.ToTensor(),  \n",
    "])\n",
    "\n",
    "risk_transform = transforms.Compose([\n",
    "    transforms.Resize((64, 64)),\n",
    "    transforms.ToTensor(),\n",
    "    transforms.Normalize([0.5], [0.5])\n",
    "])\n",
    "\n",
    "# Función de predicción\n",
    "def predict_image(image):\n",
    "    if image is None:\n",
    "        return \"Error: No se ha recibido ninguna imagen.\", None, None\n",
    "\n",
    "    # Predecir calidad\n",
    "    image_tensor = quality_transform(image).unsqueeze(0).to(device)\n",
    "    with torch.no_grad():\n",
    "        output = quality_model(image_tensor)\n",
    "        output_s = torch.sigmoid(output)\n",
    "        predicted_class = (output_s > 0.5).float().cpu().numpy()\n",
    "\n",
    "    quality_category = \"bad_quality\" if predicted_class[-1][-1] == 1 else \"good_quality\"\n",
    "\n",
    "    # Guardar imagen original\n",
    "    class_folder = f'./output/{quality_category}'\n",
    "    os.makedirs(class_folder, exist_ok=True)\n",
    "    image_name = f\"image_{datetime.now().strftime('%Y%m%d-%H%M%S')}.jpg\"\n",
    "    image_path = os.path.join(class_folder, image_name)\n",
    "    image.save(image_path)\n",
    "\n",
    "    # Mejorar calidad si es de mala calidad\n",
    "    if quality_category == \"bad_quality\":\n",
    "        image_to_enhancement = enhancement_transform(image).unsqueeze(0).to(device)\n",
    "        with torch.no_grad():\n",
    "            _, enhanced_image, _ = DCE_net(image_to_enhancement)\n",
    "\n",
    "        enhanced_folder = './output/good_quality'\n",
    "        os.makedirs(enhanced_folder, exist_ok=True)\n",
    "        enhanced_image_path = os.path.join(enhanced_folder, image_name)\n",
    "        torchvision.utils.save_image(enhanced_image, enhanced_image_path)\n",
    "        image_path = enhanced_image_path\n",
    "        quality_category = \"enhancement\"\n",
    "        #risk_image = risk_transform(Image.open(image_path)).unsqueeze(0).to(device)\n",
    "    #else:\n",
    "    risk_image = risk_transform(image).unsqueeze(0).to(device)\n",
    "\n",
    "    # Predecir riesgo\n",
    "    with torch.no_grad():\n",
    "        risk_prediction = risk_model(risk_image)\n",
    "        risk_class = (risk_prediction > 0.5).float().cpu().numpy()\n",
    "    risk_class = \"risky\" if risk_class[-1][-1] == 1 else \"no risky\"\n",
    "\n",
    "    return quality_category, risk_class, image_path\n",
    "\n",
    "# Interfaz de Gradio\n",
    "iface = gr.Interface(\n",
    "    fn=predict_image,\n",
    "    inputs=gr.Image(type=\"pil\"),  \n",
    "    outputs=[\n",
    "        gr.Text(label=\"Quality\"), \n",
    "        gr.Text(label=\"Risk Category\"), \n",
    "        gr.Image(label=\"Final Image\")\n",
    "    ],\n",
    "    live=True\n",
    ")\n",
    "\n",
    "# Ejecutar la interfaz\n",
    "iface.launch()\n"
   ]
  },
  {
   "cell_type": "code",
   "execution_count": null,
   "id": "8acbefbd-5401-47b1-b95a-5b21c84a2714",
   "metadata": {},
   "outputs": [],
   "source": []
  }
 ],
 "metadata": {
  "kernelspec": {
   "display_name": "Python 3 (ipykernel)",
   "language": "python",
   "name": "python3"
  },
  "language_info": {
   "codemirror_mode": {
    "name": "ipython",
    "version": 3
   },
   "file_extension": ".py",
   "mimetype": "text/x-python",
   "name": "python",
   "nbconvert_exporter": "python",
   "pygments_lexer": "ipython3",
   "version": "3.10.15"
  }
 },
 "nbformat": 4,
 "nbformat_minor": 5
}
