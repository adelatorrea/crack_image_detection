{
 "cells": [
  {
   "cell_type": "code",
   "execution_count": 1,
   "id": "4aaec700-8268-4bfa-9e46-f9931c1adf4a",
   "metadata": {},
   "outputs": [
    {
     "name": "stdout",
     "output_type": "stream",
     "text": [
      "{'PSNR': 27.87522326162319, 'SSIM': 0.8962041079500914, 'MAE': 192.50128407757444}\n"
     ]
    }
   ],
   "source": [
    "import os\n",
    "import cv2\n",
    "import numpy as np\n",
    "from skimage.metrics import structural_similarity as ssim\n",
    "\n",
    "def calculate_psnr(original, enhanced):\n",
    "    # Redimensionar imágenes al mismo tamaño\n",
    "    height, width = original.shape[:2]\n",
    "    enhanced = cv2.resize(enhanced, (width, height))\n",
    "\n",
    "    # Calcular PSNR\n",
    "    mse = np.mean((original - enhanced) ** 2)\n",
    "    if mse == 0:  # Evitar división por 0\n",
    "        return float('inf')\n",
    "    max_pixel = 255.0  # Para imágenes de 8 bits\n",
    "    psnr = 20 * np.log10(max_pixel / np.sqrt(mse))\n",
    "    return psnr\n",
    "\n",
    "def calculate_ssim(original, enhanced):\n",
    "    # Redimensionar imágenes al mismo tamaño\n",
    "    height, width = original.shape[:2]\n",
    "    enhanced = cv2.resize(enhanced, (width, height))\n",
    "\n",
    "    # Calcular tamaño de ventana (win_size) dinámico\n",
    "    min_dim = min(height, width)\n",
    "    win_size = min(7, min_dim)  # Asegurar que win_size no exceda las dimensiones de la imagen y sea válido\n",
    "\n",
    "    # Calcular SSIM\n",
    "    score, _ = ssim(original, enhanced, full=True, win_size=win_size, channel_axis=-1)  # channel_axis reemplaza multichannel\n",
    "    return score\n",
    "\n",
    "def calculate_mae(original, enhanced):\n",
    "    # Redimensionar imágenes al mismo tamaño\n",
    "    height, width = original.shape[:2]\n",
    "    enhanced = cv2.resize(enhanced, (width, height))\n",
    "\n",
    "    # Calcular MAE\n",
    "    mae = np.mean(np.abs(original - enhanced))\n",
    "    return mae\n",
    "\n",
    "def evaluate_metrics(image_dir_low_light, image_dir_good_light):\n",
    "    psnr_list, ssim_list, mae_list = [], [], []\n",
    "\n",
    "    for filename in os.listdir(image_dir_good_light):\n",
    "        # Rutas a las imágenes\n",
    "        path_low = os.path.join(image_dir_low_light, filename)\n",
    "        path_good = os.path.join(image_dir_good_light, filename)\n",
    "\n",
    "        # Carga de imágenes\n",
    "        original_image = cv2.imread(path_good)\n",
    "        enhanced_image = cv2.imread(path_low)\n",
    "\n",
    "        # Validar que las imágenes se cargaron correctamente\n",
    "        if original_image is None or enhanced_image is None:\n",
    "            print(f\"Error al cargar {filename}. Saltando este archivo...\")\n",
    "            continue\n",
    "\n",
    "        # Cálculo de métricas\n",
    "        psnr_list.append(calculate_psnr(original_image, enhanced_image))\n",
    "        ssim_list.append(calculate_ssim(original_image, enhanced_image))\n",
    "        mae_list.append(calculate_mae(original_image, enhanced_image))\n",
    "\n",
    "    return {\n",
    "        \"PSNR\": np.mean(psnr_list),\n",
    "        \"SSIM\": np.mean(ssim_list),\n",
    "        \"MAE\": np.mean(mae_list)\n",
    "    }\n",
    "\n",
    "# Directorios\n",
    "low_light_dir = r\"C:\\Users\\nahue\\Desktop\\asdasd\\og_validation\"\n",
    "good_light_dir = r\"C:\\Users\\nahue\\Desktop\\proyectos\\TFM\\Zero-DCE\\Zero-DCE_code\\data\\result\\result\"\n",
    "\n",
    "# Evaluación\n",
    "metrics = evaluate_metrics(low_light_dir, good_light_dir)\n",
    "print(metrics)\n"
   ]
  },
  {
   "cell_type": "code",
   "execution_count": null,
   "id": "eca71ff5-e3e3-49f2-9ef7-2097db6c07eb",
   "metadata": {},
   "outputs": [],
   "source": []
  }
 ],
 "metadata": {
  "kernelspec": {
   "display_name": "Python 3 (ipykernel)",
   "language": "python",
   "name": "python3"
  },
  "language_info": {
   "codemirror_mode": {
    "name": "ipython",
    "version": 3
   },
   "file_extension": ".py",
   "mimetype": "text/x-python",
   "name": "python",
   "nbconvert_exporter": "python",
   "pygments_lexer": "ipython3",
   "version": "3.10.15"
  }
 },
 "nbformat": 4,
 "nbformat_minor": 5
}
